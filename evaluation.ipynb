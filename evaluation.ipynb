{
 "cells": [
  {
   "cell_type": "code",
   "execution_count": null,
   "metadata": {},
   "outputs": [],
   "source": [
    "from music21 import converter, note, chord, stream\n",
    "import matplotlib.pyplot as plt\n",
    "\n",
    "midi_file_name = 'sample.mid'\n",
    "\n",
    "def midi_stats(midi_path):\n",
    "    midi = converter.parse(midi_path)\n",
    "    notes = []\n",
    "    durations = []\n",
    "    polyphony_count = 0\n",
    "\n",
    "    for el in midi.flat.notes:\n",
    "        if isinstance(el, note.Note):\n",
    "            notes.append(el.pitch.midi)\n",
    "            durations.append(el.duration.quarterLength)\n",
    "        elif isinstance(el, chord.Chord):\n",
    "            notes.extend(p.midi for p in el.pitches)\n",
    "            durations.append(el.duration.quarterLength)\n",
    "            polyphony_count += 1\n",
    "\n",
    "    print(f\"Total notes: {len(notes)}\")\n",
    "    print(f\"Polyphonic events: {polyphony_count}\")\n",
    "    print(f\"Average duration: {sum(durations)/len(durations):.2f}\")\n",
    "\n",
    "    plt.hist(notes, bins=range(min(notes), max(notes)+1))\n",
    "    plt.title(\"Pitch Distribution\")\n",
    "    plt.xlabel(\"MIDI Pitch\")\n",
    "    plt.ylabel(\"Count\")\n",
    "    plt.show()"
   ]
  },
  {
   "cell_type": "code",
   "execution_count": null,
   "metadata": {},
   "outputs": [],
   "source": [
    "midi_stats(midi_file_name)"
   ]
  }
 ],
 "metadata": {
  "kernelspec": {
   "display_name": "Python 3",
   "language": "python",
   "name": "python3"
  },
  "language_info": {
   "codemirror_mode": {
    "name": "ipython",
    "version": 3
   },
   "file_extension": ".py",
   "mimetype": "text/x-python",
   "name": "python",
   "nbconvert_exporter": "python",
   "pygments_lexer": "ipython3",
   "version": "3.9.6"
  }
 },
 "nbformat": 4,
 "nbformat_minor": 2
}
